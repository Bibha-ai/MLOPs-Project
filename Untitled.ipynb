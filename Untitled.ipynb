{
 "cells": [
  {
   "cell_type": "code",
   "execution_count": 1,
   "id": "602c4afc-4821-459b-b4ab-a8f7add4912c",
   "metadata": {},
   "outputs": [
    {
     "name": "stdout",
     "output_type": "stream",
     "text": [
      "C:\\Users\\bibha_kumari\\AppData\\Local\\anaconda3;C:\\Users\\bibha_kumari\\AppData\\Local\\anaconda3\\Library\\mingw-w64\\bin;C:\\Users\\bibha_kumari\\AppData\\Local\\anaconda3\\Library\\usr\\bin;C:\\Users\\bibha_kumari\\AppData\\Local\\anaconda3\\Library\\bin;C:\\Users\\bibha_kumari\\AppData\\Local\\anaconda3\\Scripts;C:\\Program Files\\Common Files\\Oracle\\Java\\javapath;C:\\Windows\\system32;C:\\Windows;C:\\Windows\\System32\\Wbem;C:\\Windows\\System32\\WindowsPowerShell\\v1.0\\;C:\\Windows\\System32\\OpenSSH\\;C:\\Program Files\\WindowsPowerShell\\Scripts;C:\\Program Files\\Java\\jdk-11\\bin;C:\\Program Files\\Spark\\spark-3.5.1-bin-hadoop3\\bin;C:\\Program Files\\Hadoop\\bin;C:\\Users\\bibha_kumari\\AppData\\Local\\Programs\\Python\\Python312\\Scripts\\;C:\\Users\\bibha_kumari\\AppData\\Local\\Programs\\Python\\Python312\\;C:\\Users\\bibha_kumari\\AppData\\Local\\Programs\\Python\\Launcher\\;C:\\Users\\bibha_kumari\\AppData\\Local\\Microsoft\\WindowsApps;C:\\Users\\bibha_kumari\\AppData\\Local\\Programs\\Microsoft VS Code\\bin;%C:\\Program Files\\Java\\jdk-11%\\bin;\n"
     ]
    }
   ],
   "source": [
    "import os\n",
    "print(os.environ['PATH'])"
   ]
  },
  {
   "cell_type": "code",
   "execution_count": 3,
   "id": "78315b80-96e2-48d1-9341-56d3676c29a9",
   "metadata": {},
   "outputs": [],
   "source": [
    "import os\n",
    "os.environ['PATH'] += os.pathsep + r'C:\\Program Files\\Git\\cmd'"
   ]
  },
  {
   "cell_type": "code",
   "execution_count": 5,
   "id": "88ed0d6b-5008-4373-9785-f9381e07ee7c",
   "metadata": {},
   "outputs": [
    {
     "name": "stdout",
     "output_type": "stream",
     "text": [
      "git version 2.45.2.windows.1\n"
     ]
    }
   ],
   "source": [
    "!git --version"
   ]
  },
  {
   "cell_type": "code",
   "execution_count": null,
   "id": "05faeea9-3e93-4587-b10e-3269a642138d",
   "metadata": {},
   "outputs": [],
   "source": []
  }
 ],
 "metadata": {
  "kernelspec": {
   "display_name": "Python 3 (ipykernel)",
   "language": "python",
   "name": "python3"
  },
  "language_info": {
   "codemirror_mode": {
    "name": "ipython",
    "version": 3
   },
   "file_extension": ".py",
   "mimetype": "text/x-python",
   "name": "python",
   "nbconvert_exporter": "python",
   "pygments_lexer": "ipython3",
   "version": "3.12.4"
  }
 },
 "nbformat": 4,
 "nbformat_minor": 5
}
