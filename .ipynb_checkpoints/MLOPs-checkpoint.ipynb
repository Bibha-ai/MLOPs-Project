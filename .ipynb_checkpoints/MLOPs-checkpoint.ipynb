{
 "cells": [
  {
   "cell_type": "code",
   "execution_count": 1,
   "id": "38603307-b89c-4f27-8f54-52dd5b54a378",
   "metadata": {},
   "outputs": [
    {
     "data": {
      "text/plain": [
       "'C:\\\\Users\\\\bibha_kumari\\\\MLOPs_PoC'"
      ]
     },
     "execution_count": 1,
     "metadata": {},
     "output_type": "execute_result"
    }
   ],
   "source": [
    "%pwd"
   ]
  },
  {
   "cell_type": "code",
   "execution_count": 7,
   "id": "acc122a0-f694-444b-a0d9-9495cf43e885",
   "metadata": {},
   "outputs": [
    {
     "name": "stderr",
     "output_type": "stream",
     "text": [
      "2024-07-14 21:21:56,265 - INFO - Creating directory: .github\\workflows for file: .gitkeep\n",
      "2024-07-14 21:21:56,284 - INFO - Creating directory: src for file: __init__.py\n",
      "2024-07-14 21:21:56,296 - INFO - Creating directory: src\\components for file: __init__.py\n",
      "2024-07-14 21:21:56,301 - INFO - Creating directory: src\\components for file: data_ingestion.py\n",
      "2024-07-14 21:21:56,312 - INFO - Creating directory: src\\components for file: data_transformation.py\n",
      "2024-07-14 21:21:56,312 - INFO - Creating directory: src\\components for file: model_trainer.py\n",
      "2024-07-14 21:21:56,332 - INFO - Creating directory: src\\components for file: model_evaluation.py\n",
      "2024-07-14 21:21:56,347 - INFO - Creating directory: src\\pipeline for file: __init__.py\n",
      "2024-07-14 21:21:56,347 - INFO - Creating directory: src\\pipeline for file: training_pipeline.py\n",
      "2024-07-14 21:21:56,363 - INFO - Creating directory: src\\pipeline for file: prediction_pipeline.py\n",
      "2024-07-14 21:21:56,378 - INFO - Creating directory: src\\utils for file: __init__.py\n",
      "2024-07-14 21:21:56,378 - INFO - Creating directory: src\\utils for file: utils.py\n",
      "2024-07-14 21:21:56,402 - INFO - Creating directory: src\\logger for file: logging.py\n",
      "2024-07-14 21:21:56,417 - INFO - Creating directory: src\\exceptions for file: exception\n",
      "2024-07-14 21:21:56,430 - INFO - Creating directory: test\\unit for file: __init__.py\n",
      "2024-07-14 21:21:56,444 - INFO - Creating directory: test\\integration for file: __init__.py\n",
      "2024-07-14 21:21:56,478 - INFO - Creating directory: experiment for file: experiments.ipynb\n"
     ]
    }
   ],
   "source": [
    "%run Template.py"
   ]
  },
  {
   "cell_type": "markdown",
   "id": "e190e49d-6939-4620-bfc1-ff424dcac0d4",
   "metadata": {},
   "source": [
    "## Setting Up Git Configuration"
   ]
  },
  {
   "cell_type": "code",
   "execution_count": 14,
   "id": "d84f86d6-b4a0-4a72-9003-dd83543c0181",
   "metadata": {},
   "outputs": [
    {
     "name": "stderr",
     "output_type": "stream",
     "text": [
      "'git' is not recognized as an internal or external command,\n",
      "operable program or batch file.\n"
     ]
    }
   ],
   "source": [
    "!git --version"
   ]
  },
  {
   "cell_type": "code",
   "execution_count": 12,
   "id": "46eeecbb-ceb5-4fed-b21b-21f68ab0b224",
   "metadata": {},
   "outputs": [
    {
     "name": "stderr",
     "output_type": "stream",
     "text": [
      "'git' is not recognized as an internal or external command,\n",
      "operable program or batch file.\n",
      "'git' is not recognized as an internal or external command,\n",
      "operable program or batch file.\n"
     ]
    }
   ],
   "source": [
    "!git config --global user.name \"Bibha-ai\"\n",
    "!git config --global user.email \"bibha.kumari117@gmail.com\""
   ]
  },
  {
   "cell_type": "code",
   "execution_count": 9,
   "id": "76dee3ff-5659-40fe-9856-9b777e4a3b78",
   "metadata": {},
   "outputs": [
    {
     "ename": "SyntaxError",
     "evalue": "invalid syntax (3081662196.py, line 1)",
     "output_type": "error",
     "traceback": [
      "\u001b[1;36m  Cell \u001b[1;32mIn[9], line 1\u001b[1;36m\u001b[0m\n\u001b[1;33m    git add.\u001b[0m\n\u001b[1;37m        ^\u001b[0m\n\u001b[1;31mSyntaxError\u001b[0m\u001b[1;31m:\u001b[0m invalid syntax\n"
     ]
    }
   ],
   "source": [
    "# Add all changes in git:\n",
    "\n",
    "!git add .\n",
    "\n",
    "# Commit the Changes:\n",
    "\n",
    "!git commit -m \"folder structure updated\"\n",
    "\n",
    "\n",
    "\n"
   ]
  },
  {
   "cell_type": "code",
   "execution_count": null,
   "id": "ebdf340e-69e3-4029-8d46-a8bf72871d3b",
   "metadata": {},
   "outputs": [],
   "source": []
  }
 ],
 "metadata": {
  "kernelspec": {
   "display_name": "Python 3 (ipykernel)",
   "language": "python",
   "name": "python3"
  },
  "language_info": {
   "codemirror_mode": {
    "name": "ipython",
    "version": 3
   },
   "file_extension": ".py",
   "mimetype": "text/x-python",
   "name": "python",
   "nbconvert_exporter": "python",
   "pygments_lexer": "ipython3",
   "version": "3.12.4"
  }
 },
 "nbformat": 4,
 "nbformat_minor": 5
}
