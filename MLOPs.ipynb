{
 "cells": [
  {
   "cell_type": "code",
   "execution_count": 1,
   "id": "38603307-b89c-4f27-8f54-52dd5b54a378",
   "metadata": {},
   "outputs": [
    {
     "data": {
      "text/plain": [
       "'C:\\\\Users\\\\bibha_kumari\\\\MLOPs_PoC'"
      ]
     },
     "execution_count": 1,
     "metadata": {},
     "output_type": "execute_result"
    }
   ],
   "source": [
    "%pwd"
   ]
  },
  {
   "cell_type": "markdown",
   "id": "e190e49d-6939-4620-bfc1-ff424dcac0d4",
   "metadata": {},
   "source": [
    "## Setting Up Git Configuration"
   ]
  },
  {
   "cell_type": "code",
   "execution_count": 3,
   "id": "b245a686-8b94-486d-9a12-0722f7c35b0c",
   "metadata": {},
   "outputs": [],
   "source": [
    "import os\n",
    "os.environ['PATH'] += os.pathsep + r'C:\\Program Files\\Git\\cmd'"
   ]
  },
  {
   "cell_type": "code",
   "execution_count": 4,
   "id": "d84f86d6-b4a0-4a72-9003-dd83543c0181",
   "metadata": {},
   "outputs": [
    {
     "name": "stdout",
     "output_type": "stream",
     "text": [
      "git version 2.45.2.windows.1\n"
     ]
    }
   ],
   "source": [
    "!git --version"
   ]
  },
  {
   "cell_type": "code",
   "execution_count": 5,
   "id": "46eeecbb-ceb5-4fed-b21b-21f68ab0b224",
   "metadata": {},
   "outputs": [],
   "source": [
    "!git config --global user.name \"Bibha-ai\"\n",
    "!git config --global user.email \"bibha.kumari117@gmail.com\""
   ]
  },
  {
   "cell_type": "markdown",
   "id": "351e4ff0-017b-4a6c-b364-2a3fac93de79",
   "metadata": {},
   "source": [
    "## Important git commands"
   ]
  },
  {
   "cell_type": "markdown",
   "id": "3885c89c-5040-4d06-a99a-5b0533b956a0",
   "metadata": {},
   "source": [
    "!git --version  # Verify Git installation\n",
    "!git add .      # Add all changes to the staging area\n",
    "!git commit -m \"Your commit message\"  # Commit the changes\n",
    "!git push origin master  # Push the changes to the remote repository\n",
    "\n",
    "\n",
    "\n",
    "\n"
   ]
  },
  {
   "cell_type": "code",
   "execution_count": 8,
   "id": "acc122a0-f694-444b-a0d9-9495cf43e885",
   "metadata": {},
   "outputs": [
    {
     "name": "stderr",
     "output_type": "stream",
     "text": [
      "2024-07-14 22:48:53,105 - INFO - Processing file: .github\\workflows\\.gitkeep\n",
      "2024-07-14 22:48:53,107 - INFO - Creating directory: .github\\workflows for file: .gitkeep\n",
      "2024-07-14 22:48:53,116 - INFO - Creating file: .github\\workflows\\.gitkeep\n",
      "2024-07-14 22:48:53,119 - INFO - Processing file: src\\__init__.py\n",
      "2024-07-14 22:48:53,122 - INFO - Creating directory: src for file: __init__.py\n",
      "2024-07-14 22:48:53,127 - INFO - Creating file: src\\__init__.py\n",
      "2024-07-14 22:48:53,134 - INFO - Processing file: src\\components\\__init__.py\n",
      "2024-07-14 22:48:53,142 - INFO - Creating directory: src\\components for file: __init__.py\n",
      "2024-07-14 22:48:53,148 - INFO - Creating file: src\\components\\__init__.py\n",
      "2024-07-14 22:48:53,148 - INFO - Processing file: src\\components\\data_ingestion.py\n",
      "2024-07-14 22:48:53,155 - INFO - Creating directory: src\\components for file: data_ingestion.py\n",
      "2024-07-14 22:48:53,159 - INFO - Creating file: src\\components\\data_ingestion.py\n",
      "2024-07-14 22:48:53,159 - INFO - Processing file: src\\components\\data_transformation.py\n",
      "2024-07-14 22:48:53,174 - INFO - Creating directory: src\\components for file: data_transformation.py\n",
      "2024-07-14 22:48:53,177 - INFO - Creating file: src\\components\\data_transformation.py\n",
      "2024-07-14 22:48:53,177 - INFO - Processing file: src\\components\\model_trainer.py\n",
      "2024-07-14 22:48:53,177 - INFO - Creating directory: src\\components for file: model_trainer.py\n",
      "2024-07-14 22:48:53,204 - INFO - Creating file: src\\components\\model_trainer.py\n",
      "2024-07-14 22:48:53,211 - INFO - Processing file: src\\components\\model_evaluation.py\n",
      "2024-07-14 22:48:53,218 - INFO - Creating directory: src\\components for file: model_evaluation.py\n",
      "2024-07-14 22:48:53,225 - INFO - Creating file: src\\components\\model_evaluation.py\n",
      "2024-07-14 22:48:53,229 - INFO - Processing file: src\\pipeline\\__init__.py\n",
      "2024-07-14 22:48:53,234 - INFO - Creating directory: src\\pipeline for file: __init__.py\n",
      "2024-07-14 22:48:53,243 - INFO - Creating file: src\\pipeline\\__init__.py\n",
      "2024-07-14 22:48:53,248 - INFO - Processing file: src\\pipeline\\training_pipeline.py\n",
      "2024-07-14 22:48:53,252 - INFO - Creating directory: src\\pipeline for file: training_pipeline.py\n",
      "2024-07-14 22:48:53,262 - INFO - Creating file: src\\pipeline\\training_pipeline.py\n",
      "2024-07-14 22:48:53,266 - INFO - Processing file: src\\pipeline\\prediction_pipeline.py\n",
      "2024-07-14 22:48:53,270 - INFO - Creating directory: src\\pipeline for file: prediction_pipeline.py\n",
      "2024-07-14 22:48:53,278 - INFO - Creating file: src\\pipeline\\prediction_pipeline.py\n",
      "2024-07-14 22:48:53,284 - INFO - Processing file: src\\utils\\__init__.py\n",
      "2024-07-14 22:48:53,291 - INFO - Creating directory: src\\utils for file: __init__.py\n",
      "2024-07-14 22:48:53,300 - INFO - Creating file: src\\utils\\__init__.py\n",
      "2024-07-14 22:48:53,300 - INFO - Processing file: src\\utils\\utils.py\n",
      "2024-07-14 22:48:53,307 - INFO - Creating directory: src\\utils for file: utils.py\n",
      "2024-07-14 22:48:53,314 - INFO - Creating file: src\\utils\\utils.py\n",
      "2024-07-14 22:48:53,325 - INFO - Processing file: src\\logger\\logging.py\n",
      "2024-07-14 22:48:53,331 - INFO - Creating directory: src\\logger for file: logging.py\n",
      "2024-07-14 22:48:53,339 - INFO - Creating file: src\\logger\\logging.py\n",
      "2024-07-14 22:48:53,344 - INFO - Processing file: src\\exceptions\\exception.py\n",
      "2024-07-14 22:48:53,383 - INFO - Creating directory: src\\exceptions for file: exception.py\n",
      "2024-07-14 22:48:53,385 - INFO - Creating file: src\\exceptions\\exception.py\n",
      "2024-07-14 22:48:53,385 - INFO - Processing file: test\\unit\\__init__.py\n",
      "2024-07-14 22:48:53,395 - INFO - Creating directory: test\\unit for file: __init__.py\n",
      "2024-07-14 22:48:53,405 - INFO - Creating file: test\\unit\\__init__.py\n",
      "2024-07-14 22:48:53,414 - INFO - Processing file: test\\integration\\__init__.py\n",
      "2024-07-14 22:48:53,418 - INFO - Creating directory: test\\integration for file: __init__.py\n",
      "2024-07-14 22:48:53,423 - INFO - Creating file: test\\integration\\__init__.py\n",
      "2024-07-14 22:48:53,425 - INFO - Processing file: init_setup.sh\n",
      "2024-07-14 22:48:53,433 - INFO - Creating file: init_setup.sh\n",
      "2024-07-14 22:48:53,437 - INFO - Processing file: requirements.txt\n",
      "2024-07-14 22:48:53,439 - INFO - Creating file: requirements.txt\n",
      "2024-07-14 22:48:53,444 - INFO - Processing file: requirements_dev.txt\n",
      "2024-07-14 22:48:53,486 - INFO - Creating file: requirements_dev.txt\n",
      "2024-07-14 22:48:53,507 - INFO - Processing file: setup.py\n",
      "2024-07-14 22:48:53,510 - INFO - Creating file: setup.py\n",
      "2024-07-14 22:48:53,517 - INFO - Processing file: setup.cfg\n",
      "2024-07-14 22:48:53,519 - INFO - Creating file: setup.cfg\n",
      "2024-07-14 22:48:53,525 - INFO - Processing file: pyproject.toml\n",
      "2024-07-14 22:48:53,531 - INFO - Creating file: pyproject.toml\n",
      "2024-07-14 22:48:53,535 - INFO - Processing file: tox.ini\n",
      "2024-07-14 22:48:53,547 - INFO - Creating file: tox.ini\n",
      "2024-07-14 22:48:53,552 - INFO - Processing file: experiment\\experiments.ipynb\n",
      "2024-07-14 22:48:53,559 - INFO - Creating directory: experiment for file: experiments.ipynb\n",
      "2024-07-14 22:48:53,565 - INFO - Creating file: experiment\\experiments.ipynb\n"
     ]
    }
   ],
   "source": [
    "%run Template.py"
   ]
  },
  {
   "cell_type": "code",
   "execution_count": 9,
   "id": "ebdf340e-69e3-4029-8d46-a8bf72871d3b",
   "metadata": {},
   "outputs": [
    {
     "name": "stdout",
     "output_type": "stream",
     "text": [
      "[\"warning: in the working copy of '.ipynb_checkpoints/Template-checkpoint.py', LF will be replaced by CRLF the next time Git touches it\", \"warning: in the working copy of 'MLOPs.ipynb', LF will be replaced by CRLF the next time Git touches it\", \"warning: in the working copy of 'Template.py', LF will be replaced by CRLF the next time Git touches it\"]\n",
      "['[master 76795dd] Added new files and updated existing ones', ' 3 files changed, 48 insertions(+), 42 deletions(-)']\n",
      "['To https://github.com/Bibha-ai/MLOPs-Project.git', ' ! [rejected]        master -> master (fetch first)', \"error: failed to push some refs to 'https://github.com/Bibha-ai/MLOPs-Project.git'\", 'hint: Updates were rejected because the remote contains work that you do not', 'hint: have locally. This is usually caused by another repository pushing to', 'hint: the same ref. If you want to integrate the remote changes, use', \"hint: 'git pull' before pushing again.\", \"hint: See the 'Note about fast-forwards' in 'git push --help' for details.\"]\n"
     ]
    }
   ],
   "source": [
    "# Add all changes to the staging area and capture the output\n",
    "add_output = !git add .\n",
    "print(add_output)\n",
    "\n",
    "# Commit the changes with a message and capture the output\n",
    "commit_message = \"Added new files and updated existing ones\"\n",
    "commit_output = !git commit -m \"{commit_message}\"\n",
    "print(commit_output)\n",
    "\n",
    "# Push the changes to the remote repository and capture the output\n",
    "push_output = !git push origin master\n",
    "print(push_output)\n"
   ]
  },
  {
   "cell_type": "code",
   "execution_count": 19,
   "id": "aefe69c9-ab79-43e0-812b-4af34e5dd506",
   "metadata": {},
   "outputs": [
    {
     "name": "stdout",
     "output_type": "stream",
     "text": [
      "Merge made by the 'ort' strategy."
     ]
    },
    {
     "name": "stderr",
     "output_type": "stream",
     "text": [
      "From https://github.com/Bibha-ai/MLOPs-Project\n",
      " * branch            master     -> FETCH_HEAD\n",
      "   fc66999..9ac5873  master     -> origin/master\n"
     ]
    },
    {
     "name": "stdout",
     "output_type": "stream",
     "text": [
      "\n",
      " src/exceptions/exception | 0\n",
      " 1 file changed, 0 insertions(+), 0 deletions(-)\n",
      " delete mode 100644 src/exceptions/exception\n"
     ]
    }
   ],
   "source": [
    "!git pull origin master"
   ]
  },
  {
   "cell_type": "code",
   "execution_count": null,
   "id": "5b078f1f-1313-48f5-8ff8-01f4bfc973c6",
   "metadata": {},
   "outputs": [],
   "source": []
  }
 ],
 "metadata": {
  "kernelspec": {
   "display_name": "Python 3 (ipykernel)",
   "language": "python",
   "name": "python3"
  },
  "language_info": {
   "codemirror_mode": {
    "name": "ipython",
    "version": 3
   },
   "file_extension": ".py",
   "mimetype": "text/x-python",
   "name": "python",
   "nbconvert_exporter": "python",
   "pygments_lexer": "ipython3",
   "version": "3.12.4"
  }
 },
 "nbformat": 4,
 "nbformat_minor": 5
}
