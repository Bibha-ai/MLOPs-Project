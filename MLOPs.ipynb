{
 "cells": [
  {
   "cell_type": "code",
   "execution_count": 1,
   "id": "38603307-b89c-4f27-8f54-52dd5b54a378",
   "metadata": {},
   "outputs": [
    {
     "data": {
      "text/plain": [
       "'C:\\\\Users\\\\bibha_kumari\\\\MLOPs_PoC'"
      ]
     },
     "execution_count": 1,
     "metadata": {},
     "output_type": "execute_result"
    }
   ],
   "source": [
    "%pwd"
   ]
  },
  {
   "cell_type": "code",
   "execution_count": 2,
   "id": "acc122a0-f694-444b-a0d9-9495cf43e885",
   "metadata": {},
   "outputs": [
    {
     "name": "stderr",
     "output_type": "stream",
     "text": [
      "2024-07-14 22:11:24,118 - INFO - Creating directory: .github\\workflows for file: .gitkeep\n",
      "2024-07-14 22:11:24,132 - INFO - Creating directory: src for file: __init__.py\n",
      "2024-07-14 22:11:24,138 - INFO - Creating directory: src\\components for file: __init__.py\n",
      "2024-07-14 22:11:24,146 - INFO - Creating directory: src\\components for file: data_ingestion.py\n",
      "2024-07-14 22:11:24,150 - INFO - Creating directory: src\\components for file: data_transformation.py\n",
      "2024-07-14 22:11:24,155 - INFO - Creating directory: src\\components for file: model_trainer.py\n",
      "2024-07-14 22:11:24,164 - INFO - Creating directory: src\\components for file: model_evaluation.py\n",
      "2024-07-14 22:11:24,175 - INFO - Creating directory: src\\pipeline for file: __init__.py\n",
      "2024-07-14 22:11:24,175 - INFO - Creating directory: src\\pipeline for file: training_pipeline.py\n",
      "2024-07-14 22:11:24,189 - INFO - Creating directory: src\\pipeline for file: prediction_pipeline.py\n",
      "2024-07-14 22:11:24,197 - INFO - Creating directory: src\\utils for file: __init__.py\n",
      "2024-07-14 22:11:24,212 - INFO - Creating directory: src\\utils for file: utils.py\n",
      "2024-07-14 22:11:24,215 - INFO - Creating directory: src\\logger for file: logging.py\n",
      "2024-07-14 22:11:24,230 - INFO - Creating directory: src\\exceptions for file: exception\n",
      "2024-07-14 22:11:24,238 - INFO - Creating directory: test\\unit for file: __init__.py\n",
      "2024-07-14 22:11:24,247 - INFO - Creating directory: test\\integration for file: __init__.py\n",
      "2024-07-14 22:11:24,262 - INFO - Creating directory: experiment for file: experiments.ipynb\n"
     ]
    }
   ],
   "source": [
    "%run Template.py"
   ]
  },
  {
   "cell_type": "markdown",
   "id": "e190e49d-6939-4620-bfc1-ff424dcac0d4",
   "metadata": {},
   "source": [
    "## Setting Up Git Configuration"
   ]
  },
  {
   "cell_type": "code",
   "execution_count": 4,
   "id": "b245a686-8b94-486d-9a12-0722f7c35b0c",
   "metadata": {},
   "outputs": [],
   "source": [
    "import os\n",
    "os.environ['PATH'] += os.pathsep + r'C:\\Program Files\\Git\\cmd'"
   ]
  },
  {
   "cell_type": "code",
   "execution_count": 5,
   "id": "d84f86d6-b4a0-4a72-9003-dd83543c0181",
   "metadata": {},
   "outputs": [
    {
     "name": "stdout",
     "output_type": "stream",
     "text": [
      "git version 2.45.2.windows.1\n"
     ]
    }
   ],
   "source": [
    "!git --version"
   ]
  },
  {
   "cell_type": "code",
   "execution_count": 6,
   "id": "46eeecbb-ceb5-4fed-b21b-21f68ab0b224",
   "metadata": {},
   "outputs": [],
   "source": [
    "!git config --global user.name \"Bibha-ai\"\n",
    "!git config --global user.email \"bibha.kumari117@gmail.com\""
   ]
  },
  {
   "cell_type": "markdown",
   "id": "351e4ff0-017b-4a6c-b364-2a3fac93de79",
   "metadata": {},
   "source": [
    "## Important git commands"
   ]
  },
  {
   "cell_type": "markdown",
   "id": "3885c89c-5040-4d06-a99a-5b0533b956a0",
   "metadata": {},
   "source": [
    "!git --version  # Verify Git installation\n",
    "!git add .      # Add all changes to the staging area\n",
    "!git commit -m \"Your commit message\"  # Commit the changes\n",
    "!git push origin master  # Push the changes to the remote repository\n",
    "\n",
    "\n",
    "\n",
    "\n"
   ]
  },
  {
   "cell_type": "code",
   "execution_count": 9,
   "id": "ebdf340e-69e3-4029-8d46-a8bf72871d3b",
   "metadata": {},
   "outputs": [
    {
     "name": "stdout",
     "output_type": "stream",
     "text": [
      "[]\n",
      "['On branch master', \"Your branch is up to date with 'origin/master'.\", '', 'nothing to commit, working tree clean']\n",
      "['Everything up-to-date']\n"
     ]
    }
   ],
   "source": [
    "# Add all changes to the staging area and capture the output\n",
    "add_output = !git add .\n",
    "print(add_output)\n",
    "\n",
    "# Commit the changes with a message and capture the output\n",
    "commit_message = \"Added new files and updated existing ones\"\n",
    "commit_output = !git commit -m \"{commit_message}\"\n",
    "print(commit_output)\n",
    "\n",
    "# Push the changes to the remote repository and capture the output\n",
    "push_output = !git push origin master\n",
    "print(push_output)\n"
   ]
  },
  {
   "cell_type": "code",
   "execution_count": null,
   "id": "aefe69c9-ab79-43e0-812b-4af34e5dd506",
   "metadata": {},
   "outputs": [],
   "source": []
  }
 ],
 "metadata": {
  "kernelspec": {
   "display_name": "Python 3 (ipykernel)",
   "language": "python",
   "name": "python3"
  },
  "language_info": {
   "codemirror_mode": {
    "name": "ipython",
    "version": 3
   },
   "file_extension": ".py",
   "mimetype": "text/x-python",
   "name": "python",
   "nbconvert_exporter": "python",
   "pygments_lexer": "ipython3",
   "version": "3.12.4"
  }
 },
 "nbformat": 4,
 "nbformat_minor": 5
}
