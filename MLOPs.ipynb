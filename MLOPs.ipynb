{
 "cells": [
  {
   "cell_type": "code",
   "execution_count": 1,
   "id": "38603307-b89c-4f27-8f54-52dd5b54a378",
   "metadata": {},
   "outputs": [
    {
     "data": {
      "text/plain": [
       "'C:\\\\Users\\\\bibha_kumari\\\\MLOPs_PoC'"
      ]
     },
     "execution_count": 1,
     "metadata": {},
     "output_type": "execute_result"
    }
   ],
   "source": [
    "%pwd"
   ]
  },
  {
   "cell_type": "code",
   "execution_count": 7,
   "id": "acc122a0-f694-444b-a0d9-9495cf43e885",
   "metadata": {},
   "outputs": [
    {
     "name": "stderr",
     "output_type": "stream",
     "text": [
      "2024-07-14 21:21:56,265 - INFO - Creating directory: .github\\workflows for file: .gitkeep\n",
      "2024-07-14 21:21:56,284 - INFO - Creating directory: src for file: __init__.py\n",
      "2024-07-14 21:21:56,296 - INFO - Creating directory: src\\components for file: __init__.py\n",
      "2024-07-14 21:21:56,301 - INFO - Creating directory: src\\components for file: data_ingestion.py\n",
      "2024-07-14 21:21:56,312 - INFO - Creating directory: src\\components for file: data_transformation.py\n",
      "2024-07-14 21:21:56,312 - INFO - Creating directory: src\\components for file: model_trainer.py\n",
      "2024-07-14 21:21:56,332 - INFO - Creating directory: src\\components for file: model_evaluation.py\n",
      "2024-07-14 21:21:56,347 - INFO - Creating directory: src\\pipeline for file: __init__.py\n",
      "2024-07-14 21:21:56,347 - INFO - Creating directory: src\\pipeline for file: training_pipeline.py\n",
      "2024-07-14 21:21:56,363 - INFO - Creating directory: src\\pipeline for file: prediction_pipeline.py\n",
      "2024-07-14 21:21:56,378 - INFO - Creating directory: src\\utils for file: __init__.py\n",
      "2024-07-14 21:21:56,378 - INFO - Creating directory: src\\utils for file: utils.py\n",
      "2024-07-14 21:21:56,402 - INFO - Creating directory: src\\logger for file: logging.py\n",
      "2024-07-14 21:21:56,417 - INFO - Creating directory: src\\exceptions for file: exception\n",
      "2024-07-14 21:21:56,430 - INFO - Creating directory: test\\unit for file: __init__.py\n",
      "2024-07-14 21:21:56,444 - INFO - Creating directory: test\\integration for file: __init__.py\n",
      "2024-07-14 21:21:56,478 - INFO - Creating directory: experiment for file: experiments.ipynb\n"
     ]
    }
   ],
   "source": [
    "%run Template.py"
   ]
  },
  {
   "cell_type": "markdown",
   "id": "e190e49d-6939-4620-bfc1-ff424dcac0d4",
   "metadata": {},
   "source": [
    "## Setting Up Git Configuration"
   ]
  },
  {
   "cell_type": "code",
   "execution_count": 16,
   "id": "b245a686-8b94-486d-9a12-0722f7c35b0c",
   "metadata": {},
   "outputs": [],
   "source": [
    "import os\n",
    "os.environ['PATH'] += os.pathsep + r'C:\\Program Files\\Git\\cmd'"
   ]
  },
  {
   "cell_type": "code",
   "execution_count": 18,
   "id": "d84f86d6-b4a0-4a72-9003-dd83543c0181",
   "metadata": {},
   "outputs": [
    {
     "name": "stdout",
     "output_type": "stream",
     "text": [
      "git version 2.45.2.windows.1\n"
     ]
    }
   ],
   "source": [
    "!git --version"
   ]
  },
  {
   "cell_type": "code",
   "execution_count": 20,
   "id": "46eeecbb-ceb5-4fed-b21b-21f68ab0b224",
   "metadata": {},
   "outputs": [],
   "source": [
    "!git config --global user.name \"Bibha-ai\"\n",
    "!git config --global user.email \"bibha.kumari117@gmail.com\""
   ]
  },
  {
   "cell_type": "code",
   "execution_count": null,
   "id": "9e2bd5c1-1307-4939-91c7-96527a6e7286",
   "metadata": {},
   "outputs": [],
   "source": []
  },
  {
   "cell_type": "code",
   "execution_count": 9,
   "id": "76dee3ff-5659-40fe-9856-9b777e4a3b78",
   "metadata": {},
   "outputs": [
    {
     "ename": "SyntaxError",
     "evalue": "invalid syntax (3081662196.py, line 1)",
     "output_type": "error",
     "traceback": [
      "\u001b[1;36m  Cell \u001b[1;32mIn[9], line 1\u001b[1;36m\u001b[0m\n\u001b[1;33m    git add.\u001b[0m\n\u001b[1;37m        ^\u001b[0m\n\u001b[1;31mSyntaxError\u001b[0m\u001b[1;31m:\u001b[0m invalid syntax\n"
     ]
    }
   ],
   "source": [
    "!git --version  # Verify Git installation\n",
    "!git add .      # Add all changes to the staging area\n",
    "!git commit -m \"Your commit message\"  # Commit the changes\n",
    "!git push origin master  # Push the changes to the remote repository\n",
    "\n",
    "\n",
    "\n",
    "\n"
   ]
  },
  {
   "cell_type": "code",
   "execution_count": null,
   "id": "ebdf340e-69e3-4029-8d46-a8bf72871d3b",
   "metadata": {},
   "outputs": [],
   "source": []
  }
 ],
 "metadata": {
  "kernelspec": {
   "display_name": "Python 3 (ipykernel)",
   "language": "python",
   "name": "python3"
  },
  "language_info": {
   "codemirror_mode": {
    "name": "ipython",
    "version": 3
   },
   "file_extension": ".py",
   "mimetype": "text/x-python",
   "name": "python",
   "nbconvert_exporter": "python",
   "pygments_lexer": "ipython3",
   "version": "3.12.4"
  }
 },
 "nbformat": 4,
 "nbformat_minor": 5
}
